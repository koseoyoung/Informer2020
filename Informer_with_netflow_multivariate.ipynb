{
  "cells": [
    {
      "cell_type": "markdown",
      "metadata": {
        "id": "view-in-github",
        "colab_type": "text"
      },
      "source": [
        "<a href=\"https://colab.research.google.com/github/koseoyoung/Informer2020/blob/main/Informer_with_netflow_multivariate.ipynb\" target=\"_parent\"><img src=\"https://colab.research.google.com/assets/colab-badge.svg\" alt=\"Open In Colab\"/></a>"
      ]
    },
    {
      "cell_type": "markdown",
      "metadata": {
        "id": "5IM6CZzW_CH0"
      },
      "source": [
        "# Informer Demo"
      ]
    },
    {
      "cell_type": "markdown",
      "metadata": {
        "id": "kdaIHYx4_ECL"
      },
      "source": [
        "## Download code and dataset"
      ]
    },
    {
      "cell_type": "code",
      "execution_count": 150,
      "metadata": {
        "colab": {
          "base_uri": "https://localhost:8080/"
        },
        "id": "SA_i2gbl-rn-",
        "outputId": "d9e19e8f-c479-4ee7-8f59-2f89a0fe14c0"
      },
      "outputs": [
        {
          "output_type": "stream",
          "name": "stdout",
          "text": [
            "fatal: destination path 'Informer2020' already exists and is not an empty directory.\n",
            "fatal: destination path 'ETDataset' already exists and is not an empty directory.\n",
            "ETDataset  Informer2020  informer_checkpoints  results\tsample_data\n"
          ]
        }
      ],
      "source": [
        "!git clone https://github.com/zhouhaoyi/Informer2020.git\n",
        "!git clone https://github.com/zhouhaoyi/ETDataset.git\n",
        "!ls"
      ]
    },
    {
      "cell_type": "code",
      "execution_count": 151,
      "metadata": {
        "id": "b5GFng7v7Eq0"
      },
      "outputs": [],
      "source": [
        "import sys\n",
        "if not 'Informer2020' in sys.path:\n",
        "    sys.path += ['Informer2020']"
      ]
    },
    {
      "cell_type": "code",
      "execution_count": 152,
      "metadata": {
        "id": "YW9TS6jp_YXc"
      },
      "outputs": [],
      "source": [
        "# !pip install -r ./Informer2020/requirements.txt"
      ]
    },
    {
      "cell_type": "markdown",
      "metadata": {
        "id": "rIjZdN5e_SWe"
      },
      "source": [
        "## Experiments: Train and Test (ETT dataset)"
      ]
    },
    {
      "cell_type": "code",
      "execution_count": 3,
      "metadata": {
        "id": "RPdt-Kwc_RRZ"
      },
      "outputs": [],
      "source": [
        "from utils.tools import dotdict\n",
        "from exp.exp_informer import Exp_Informer\n",
        "import torch"
      ]
    },
    {
      "cell_type": "markdown",
      "metadata": {
        "id": "DaFGT39Vr_hq"
      },
      "source": [
        "This is a script to change the original ETT dataset (for experiments, e.g., change the date feature) "
      ]
    },
    {
      "cell_type": "code",
      "execution_count": 4,
      "metadata": {
        "id": "NZl9PfSVEJjJ"
      },
      "outputs": [],
      "source": [
        "import csv\n",
        "import random\n",
        "\n",
        "# Open the CSV file\n",
        "with open('./ETDataset/ETT-small/ETTh1.csv', 'r') as file:\n",
        "    reader = csv.reader(file)\n",
        "    rows = list(reader)\n",
        "\n",
        "time_index = rows[0].index('date')\n",
        "hull_index = rows[0].index('MUFL')\n",
        "\n",
        "\n",
        "for i, row in enumerate(rows):\n",
        "    converted = ''\n",
        "    if i == 0: \n",
        "        converted = 'date'\n",
        "    else: \n",
        "       converted = \"2016-07-01 00:00:00\"\n",
        "       row[hull_index] = random.choice([\"52\", \"1450\"])\n",
        "\n",
        "    row[time_index] = converted\n",
        "  \n",
        "\n",
        "# Write the updated rows to a new CSV file\n",
        "with open('./sample_data/updated_ett.csv', 'w', newline='') as file:\n",
        "    writer = csv.writer(file)\n",
        "    writer.writerows(rows)"
      ]
    },
    {
      "cell_type": "code",
      "execution_count": 127,
      "metadata": {
        "id": "6mx2dnwY9dWi"
      },
      "outputs": [],
      "source": [
        "args = dotdict()\n",
        "\n",
        "args.model = 'informer' # model of experiment, options: [informer, informerstack, informerlight(TBD)]\n",
        "\n",
        "args.data = 'ETTh1' # data\n",
        "args.root_path = './ETDataset/ETT-small/' # root path of data file\n",
        "args.data_path = 'ETTh1.csv' # data file\n",
        "# args.data = 'custom' # data\n",
        "# args.root_path = './sample_data/' # root path of data file\n",
        "# args.data_path = 'updated_ett.csv' # data file\n",
        "args.features = 'M' # forecasting task, options:[M, S, MS]; M:multivariate predict multivariate, S:univariate predict univariate, MS:multivariate predict univariate\n",
        "args.target = 'OT' # target feature in S or MS task\n",
        "args.freq = 'h' # freq for time features encoding, options:[s:secondly, t:minutely, h:hourly, d:daily, b:business days, w:weekly, m:monthly], you can also use more detailed freq like 15min or 3h\n",
        "args.checkpoints = './informer_checkpoints' # location of model checkpoints\n",
        "\n",
        "args.seq_len = 96 # input sequence length of Informer encoder\n",
        "args.label_len = 48 # start token length of Informer decoder\n",
        "args.pred_len = 24 # prediction sequence length\n",
        "# Informer decoder input: concat[start token series(label_len), zero padding series(pred_len)]\n",
        "\n",
        "args.enc_in = 7 # encoder input size\n",
        "args.dec_in = 7 # decoder input size\n",
        "args.c_out = 7 # output size\n",
        "args.factor = 5 # probsparse attn factor\n",
        "args.d_model = 512 # dimension of model\n",
        "args.n_heads = 8 # num of heads\n",
        "args.e_layers = 2 # num of encoder layers\n",
        "args.d_layers = 1 # num of decoder layers\n",
        "args.d_ff = 2048 # dimension of fcn in model\n",
        "args.dropout = 0.05 # dropout\n",
        "args.attn = 'prob' # attention used in encoder, options:[prob, full]\n",
        "args.embed = 'timeF' # time features encoding, options:[timeF, fixed, learned]\n",
        "args.activation = 'gelu' # activation\n",
        "args.distil = True # whether to use distilling in encoder\n",
        "args.output_attention = False # whether to output attention in ecoder\n",
        "args.mix = True\n",
        "args.padding = 0\n",
        "args.freq = 'h'\n",
        "\n",
        "args.batch_size = 32 \n",
        "args.learning_rate = 0.0001\n",
        "args.loss = 'mse'\n",
        "args.lradj = 'type1'\n",
        "args.use_amp = False # whether to use automatic mixed precision training\n",
        "\n",
        "args.num_workers = 0\n",
        "args.itr = 1\n",
        "args.train_epochs = 6\n",
        "args.patience = 3\n",
        "args.des = 'exp'\n",
        "\n",
        "args.use_gpu = True if torch.cuda.is_available() else False\n",
        "args.gpu = 0\n",
        "\n",
        "args.use_multi_gpu = False\n",
        "args.devices = '0,1,2,3'\n"
      ]
    },
    {
      "cell_type": "code",
      "execution_count": 128,
      "metadata": {
        "colab": {
          "base_uri": "https://localhost:8080/",
          "height": 0
        },
        "id": "RNu5IaDFC2rE",
        "outputId": "711c7f1d-5747-4cb0-aaab-3260137984b3"
      },
      "outputs": [
        {
          "output_type": "execute_result",
          "data": {
            "text/plain": [
              "                  date   HUFL   HULL   MUFL   MULL   LUFL   LULL         OT\n",
              "0  2016-07-01 00:00:00  5.827  2.009  1.599  0.462  4.203  1.340  30.531000\n",
              "1  2016-07-01 01:00:00  5.693  2.076  1.492  0.426  4.142  1.371  27.787001\n",
              "2  2016-07-01 02:00:00  5.157  1.741  1.279  0.355  3.777  1.218  27.787001\n",
              "3  2016-07-01 03:00:00  5.090  1.942  1.279  0.391  3.807  1.279  25.044001\n",
              "4  2016-07-01 04:00:00  5.358  1.942  1.492  0.462  3.868  1.279  21.948000\n",
              "5  2016-07-01 05:00:00  5.626  2.143  1.528  0.533  4.051  1.371  21.174000\n",
              "6  2016-07-01 06:00:00  7.167  2.947  2.132  0.782  5.026  1.858  22.792000\n",
              "7  2016-07-01 07:00:00  7.435  3.282  2.310  1.031  5.087  2.224  23.143999\n",
              "8  2016-07-01 08:00:00  5.559  3.014  2.452  1.173  2.955  1.432  21.667000\n",
              "9  2016-07-01 09:00:00  4.555  2.545  1.919  0.817  2.680  1.371  17.445999"
            ],
            "text/html": [
              "\n",
              "  <div id=\"df-7cfd51e7-0020-450a-b307-03ea7ca6314d\">\n",
              "    <div class=\"colab-df-container\">\n",
              "      <div>\n",
              "<style scoped>\n",
              "    .dataframe tbody tr th:only-of-type {\n",
              "        vertical-align: middle;\n",
              "    }\n",
              "\n",
              "    .dataframe tbody tr th {\n",
              "        vertical-align: top;\n",
              "    }\n",
              "\n",
              "    .dataframe thead th {\n",
              "        text-align: right;\n",
              "    }\n",
              "</style>\n",
              "<table border=\"1\" class=\"dataframe\">\n",
              "  <thead>\n",
              "    <tr style=\"text-align: right;\">\n",
              "      <th></th>\n",
              "      <th>date</th>\n",
              "      <th>HUFL</th>\n",
              "      <th>HULL</th>\n",
              "      <th>MUFL</th>\n",
              "      <th>MULL</th>\n",
              "      <th>LUFL</th>\n",
              "      <th>LULL</th>\n",
              "      <th>OT</th>\n",
              "    </tr>\n",
              "  </thead>\n",
              "  <tbody>\n",
              "    <tr>\n",
              "      <th>0</th>\n",
              "      <td>2016-07-01 00:00:00</td>\n",
              "      <td>5.827</td>\n",
              "      <td>2.009</td>\n",
              "      <td>1.599</td>\n",
              "      <td>0.462</td>\n",
              "      <td>4.203</td>\n",
              "      <td>1.340</td>\n",
              "      <td>30.531000</td>\n",
              "    </tr>\n",
              "    <tr>\n",
              "      <th>1</th>\n",
              "      <td>2016-07-01 01:00:00</td>\n",
              "      <td>5.693</td>\n",
              "      <td>2.076</td>\n",
              "      <td>1.492</td>\n",
              "      <td>0.426</td>\n",
              "      <td>4.142</td>\n",
              "      <td>1.371</td>\n",
              "      <td>27.787001</td>\n",
              "    </tr>\n",
              "    <tr>\n",
              "      <th>2</th>\n",
              "      <td>2016-07-01 02:00:00</td>\n",
              "      <td>5.157</td>\n",
              "      <td>1.741</td>\n",
              "      <td>1.279</td>\n",
              "      <td>0.355</td>\n",
              "      <td>3.777</td>\n",
              "      <td>1.218</td>\n",
              "      <td>27.787001</td>\n",
              "    </tr>\n",
              "    <tr>\n",
              "      <th>3</th>\n",
              "      <td>2016-07-01 03:00:00</td>\n",
              "      <td>5.090</td>\n",
              "      <td>1.942</td>\n",
              "      <td>1.279</td>\n",
              "      <td>0.391</td>\n",
              "      <td>3.807</td>\n",
              "      <td>1.279</td>\n",
              "      <td>25.044001</td>\n",
              "    </tr>\n",
              "    <tr>\n",
              "      <th>4</th>\n",
              "      <td>2016-07-01 04:00:00</td>\n",
              "      <td>5.358</td>\n",
              "      <td>1.942</td>\n",
              "      <td>1.492</td>\n",
              "      <td>0.462</td>\n",
              "      <td>3.868</td>\n",
              "      <td>1.279</td>\n",
              "      <td>21.948000</td>\n",
              "    </tr>\n",
              "    <tr>\n",
              "      <th>5</th>\n",
              "      <td>2016-07-01 05:00:00</td>\n",
              "      <td>5.626</td>\n",
              "      <td>2.143</td>\n",
              "      <td>1.528</td>\n",
              "      <td>0.533</td>\n",
              "      <td>4.051</td>\n",
              "      <td>1.371</td>\n",
              "      <td>21.174000</td>\n",
              "    </tr>\n",
              "    <tr>\n",
              "      <th>6</th>\n",
              "      <td>2016-07-01 06:00:00</td>\n",
              "      <td>7.167</td>\n",
              "      <td>2.947</td>\n",
              "      <td>2.132</td>\n",
              "      <td>0.782</td>\n",
              "      <td>5.026</td>\n",
              "      <td>1.858</td>\n",
              "      <td>22.792000</td>\n",
              "    </tr>\n",
              "    <tr>\n",
              "      <th>7</th>\n",
              "      <td>2016-07-01 07:00:00</td>\n",
              "      <td>7.435</td>\n",
              "      <td>3.282</td>\n",
              "      <td>2.310</td>\n",
              "      <td>1.031</td>\n",
              "      <td>5.087</td>\n",
              "      <td>2.224</td>\n",
              "      <td>23.143999</td>\n",
              "    </tr>\n",
              "    <tr>\n",
              "      <th>8</th>\n",
              "      <td>2016-07-01 08:00:00</td>\n",
              "      <td>5.559</td>\n",
              "      <td>3.014</td>\n",
              "      <td>2.452</td>\n",
              "      <td>1.173</td>\n",
              "      <td>2.955</td>\n",
              "      <td>1.432</td>\n",
              "      <td>21.667000</td>\n",
              "    </tr>\n",
              "    <tr>\n",
              "      <th>9</th>\n",
              "      <td>2016-07-01 09:00:00</td>\n",
              "      <td>4.555</td>\n",
              "      <td>2.545</td>\n",
              "      <td>1.919</td>\n",
              "      <td>0.817</td>\n",
              "      <td>2.680</td>\n",
              "      <td>1.371</td>\n",
              "      <td>17.445999</td>\n",
              "    </tr>\n",
              "  </tbody>\n",
              "</table>\n",
              "</div>\n",
              "      <button class=\"colab-df-convert\" onclick=\"convertToInteractive('df-7cfd51e7-0020-450a-b307-03ea7ca6314d')\"\n",
              "              title=\"Convert this dataframe to an interactive table.\"\n",
              "              style=\"display:none;\">\n",
              "        \n",
              "  <svg xmlns=\"http://www.w3.org/2000/svg\" height=\"24px\"viewBox=\"0 0 24 24\"\n",
              "       width=\"24px\">\n",
              "    <path d=\"M0 0h24v24H0V0z\" fill=\"none\"/>\n",
              "    <path d=\"M18.56 5.44l.94 2.06.94-2.06 2.06-.94-2.06-.94-.94-2.06-.94 2.06-2.06.94zm-11 1L8.5 8.5l.94-2.06 2.06-.94-2.06-.94L8.5 2.5l-.94 2.06-2.06.94zm10 10l.94 2.06.94-2.06 2.06-.94-2.06-.94-.94-2.06-.94 2.06-2.06.94z\"/><path d=\"M17.41 7.96l-1.37-1.37c-.4-.4-.92-.59-1.43-.59-.52 0-1.04.2-1.43.59L10.3 9.45l-7.72 7.72c-.78.78-.78 2.05 0 2.83L4 21.41c.39.39.9.59 1.41.59.51 0 1.02-.2 1.41-.59l7.78-7.78 2.81-2.81c.8-.78.8-2.07 0-2.86zM5.41 20L4 18.59l7.72-7.72 1.47 1.35L5.41 20z\"/>\n",
              "  </svg>\n",
              "      </button>\n",
              "      \n",
              "  <style>\n",
              "    .colab-df-container {\n",
              "      display:flex;\n",
              "      flex-wrap:wrap;\n",
              "      gap: 12px;\n",
              "    }\n",
              "\n",
              "    .colab-df-convert {\n",
              "      background-color: #E8F0FE;\n",
              "      border: none;\n",
              "      border-radius: 50%;\n",
              "      cursor: pointer;\n",
              "      display: none;\n",
              "      fill: #1967D2;\n",
              "      height: 32px;\n",
              "      padding: 0 0 0 0;\n",
              "      width: 32px;\n",
              "    }\n",
              "\n",
              "    .colab-df-convert:hover {\n",
              "      background-color: #E2EBFA;\n",
              "      box-shadow: 0px 1px 2px rgba(60, 64, 67, 0.3), 0px 1px 3px 1px rgba(60, 64, 67, 0.15);\n",
              "      fill: #174EA6;\n",
              "    }\n",
              "\n",
              "    [theme=dark] .colab-df-convert {\n",
              "      background-color: #3B4455;\n",
              "      fill: #D2E3FC;\n",
              "    }\n",
              "\n",
              "    [theme=dark] .colab-df-convert:hover {\n",
              "      background-color: #434B5C;\n",
              "      box-shadow: 0px 1px 3px 1px rgba(0, 0, 0, 0.15);\n",
              "      filter: drop-shadow(0px 1px 2px rgba(0, 0, 0, 0.3));\n",
              "      fill: #FFFFFF;\n",
              "    }\n",
              "  </style>\n",
              "\n",
              "      <script>\n",
              "        const buttonEl =\n",
              "          document.querySelector('#df-7cfd51e7-0020-450a-b307-03ea7ca6314d button.colab-df-convert');\n",
              "        buttonEl.style.display =\n",
              "          google.colab.kernel.accessAllowed ? 'block' : 'none';\n",
              "\n",
              "        async function convertToInteractive(key) {\n",
              "          const element = document.querySelector('#df-7cfd51e7-0020-450a-b307-03ea7ca6314d');\n",
              "          const dataTable =\n",
              "            await google.colab.kernel.invokeFunction('convertToInteractive',\n",
              "                                                     [key], {});\n",
              "          if (!dataTable) return;\n",
              "\n",
              "          const docLinkHtml = 'Like what you see? Visit the ' +\n",
              "            '<a target=\"_blank\" href=https://colab.research.google.com/notebooks/data_table.ipynb>data table notebook</a>'\n",
              "            + ' to learn more about interactive tables.';\n",
              "          element.innerHTML = '';\n",
              "          dataTable['output_type'] = 'display_data';\n",
              "          await google.colab.output.renderOutput(dataTable, element);\n",
              "          const docLink = document.createElement('div');\n",
              "          docLink.innerHTML = docLinkHtml;\n",
              "          element.appendChild(docLink);\n",
              "        }\n",
              "      </script>\n",
              "    </div>\n",
              "  </div>\n",
              "  "
            ]
          },
          "metadata": {},
          "execution_count": 128
        }
      ],
      "source": [
        "import pandas as pd\n",
        "import os \n",
        "df = pd.read_csv(os.path.join(args.root_path, args.data_path))\n",
        "df.head(10)"
      ]
    },
    {
      "cell_type": "code",
      "execution_count": 129,
      "metadata": {
        "id": "k_BCYODAwKl9"
      },
      "outputs": [],
      "source": [
        "args.use_gpu = True if torch.cuda.is_available() and args.use_gpu else False\n",
        "\n",
        "if args.use_gpu and args.use_multi_gpu:\n",
        "    args.devices = args.devices.replace(' ','')\n",
        "    device_ids = args.devices.split(',')\n",
        "    args.device_ids = [int(id_) for id_ in device_ids]\n",
        "    args.gpu = args.device_ids[0]"
      ]
    },
    {
      "cell_type": "code",
      "execution_count": 130,
      "metadata": {
        "id": "53o3pZ809p-a"
      },
      "outputs": [],
      "source": [
        "# Set augments by using data name\n",
        "data_parser = {\n",
        "    'ETTh1':{'data':'ETTh1.csv','T':'OT','M':[7,7,7],'S':[1,1,1],'MS':[7,7,1]},\n",
        "    'ETTh2':{'data':'ETTh2.csv','T':'OT','M':[7,7,7],'S':[1,1,1],'MS':[7,7,1]},\n",
        "    'ETTm1':{'data':'ETTm1.csv','T':'OT','M':[7,7,7],'S':[1,1,1],'MS':[7,7,1]},\n",
        "    'ETTm2':{'data':'ETTm2.csv','T':'OT','M':[7,7,7],'S':[1,1,1],'MS':[7,7,1]},\n",
        "}\n",
        "if args.data in data_parser.keys():\n",
        "    data_info = data_parser[args.data]\n",
        "    args.data_path = data_info['data']\n",
        "    args.target = data_info['T']\n",
        "    args.enc_in, args.dec_in, args.c_out = data_info[args.features]"
      ]
    },
    {
      "cell_type": "code",
      "execution_count": 165,
      "metadata": {
        "id": "yZ5Q2vyKwSfk"
      },
      "outputs": [],
      "source": [
        "args.detail_freq = args.freq\n",
        "args.freq = args.freq[-1:]"
      ]
    },
    {
      "cell_type": "code",
      "execution_count": 131,
      "metadata": {
        "colab": {
          "base_uri": "https://localhost:8080/"
        },
        "id": "ywY-umrw-mHO",
        "outputId": "5f30fc67-5a1a-4e4b-e7c2-43592b4bbf07"
      },
      "outputs": [
        {
          "output_type": "stream",
          "name": "stdout",
          "text": [
            "Args in experiment:\n",
            "{'model': 'informer', 'data': 'ETTh1', 'root_path': './ETDataset/ETT-small/', 'data_path': 'ETTh1.csv', 'features': 'M', 'target': 'OT', 'freq': 'h', 'checkpoints': './informer_checkpoints', 'seq_len': 96, 'label_len': 48, 'pred_len': 24, 'enc_in': 7, 'dec_in': 7, 'c_out': 7, 'factor': 5, 'd_model': 512, 'n_heads': 8, 'e_layers': 2, 'd_layers': 1, 'd_ff': 2048, 'dropout': 0.05, 'attn': 'prob', 'embed': 'timeF', 'activation': 'gelu', 'distil': True, 'output_attention': False, 'mix': True, 'padding': 0, 'batch_size': 32, 'learning_rate': 0.0001, 'loss': 'mse', 'lradj': 'type1', 'use_amp': False, 'num_workers': 0, 'itr': 1, 'train_epochs': 6, 'patience': 3, 'des': 'exp', 'use_gpu': True, 'gpu': 0, 'use_multi_gpu': False, 'devices': '0,1,2,3'}\n"
          ]
        }
      ],
      "source": [
        "print('Args in experiment:')\n",
        "print(args)"
      ]
    },
    {
      "cell_type": "code",
      "execution_count": 132,
      "metadata": {
        "colab": {
          "base_uri": "https://localhost:8080/"
        },
        "id": "928tzaA2AA2g",
        "outputId": "56cfada4-d1a2-4c5a-e24b-e1aae725058b"
      },
      "outputs": [
        {
          "output_type": "stream",
          "name": "stdout",
          "text": [
            "Use GPU: cuda:0\n",
            ">>>>>>>start training : informer_ETTh1_ftM_sl96_ll48_pl24_dm512_nh8_el2_dl1_df2048_atprob_fc5_ebtimeF_dtTrue_mxTrue_exp_0>>>>>>>>>>>>>>>>>>>>>>>>>>\n",
            "train 8521\n",
            "val 2857\n",
            "test 2857\n",
            "\titers: 100, epoch: 1 | loss: 0.3923202\n",
            "\tspeed: 0.0728s/iter; left time: 108.9960s\n",
            "\titers: 200, epoch: 1 | loss: 0.3173462\n",
            "\tspeed: 0.0720s/iter; left time: 100.5485s\n",
            "Epoch: 1 cost time: 19.32886004447937\n",
            "Epoch: 1, Steps: 266 | Train Loss: 0.4110771 Vali Loss: 0.6611637 Test Loss: 0.5376952\n",
            "Validation loss decreased (inf --> 0.661164).  Saving model ...\n",
            "Updating learning rate to 0.0001\n",
            "\titers: 100, epoch: 2 | loss: 0.2485272\n",
            "\tspeed: 0.1684s/iter; left time: 207.2394s\n",
            "\titers: 200, epoch: 2 | loss: 0.2507716\n",
            "\tspeed: 0.0734s/iter; left time: 82.9894s\n",
            "Epoch: 2 cost time: 19.594423055648804\n",
            "Epoch: 2, Steps: 266 | Train Loss: 0.2599843 Vali Loss: 0.6805657 Test Loss: 0.5927439\n",
            "EarlyStopping counter: 1 out of 3\n",
            "Updating learning rate to 5e-05\n",
            "\titers: 100, epoch: 3 | loss: 0.2001707\n",
            "\tspeed: 0.1712s/iter; left time: 165.2093s\n",
            "\titers: 200, epoch: 3 | loss: 0.1817941\n",
            "\tspeed: 0.0750s/iter; left time: 64.8463s\n",
            "Epoch: 3 cost time: 19.990767002105713\n",
            "Epoch: 3, Steps: 266 | Train Loss: 0.2014421 Vali Loss: 0.6435594 Test Loss: 0.5517543\n",
            "Validation loss decreased (0.661164 --> 0.643559).  Saving model ...\n",
            "Updating learning rate to 2.5e-05\n",
            "\titers: 100, epoch: 4 | loss: 0.1659330\n",
            "\tspeed: 0.1810s/iter; left time: 126.4866s\n",
            "\titers: 200, epoch: 4 | loss: 0.1659612\n",
            "\tspeed: 0.0745s/iter; left time: 44.6387s\n",
            "Epoch: 4 cost time: 20.05936622619629\n",
            "Epoch: 4, Steps: 266 | Train Loss: 0.1737637 Vali Loss: 0.7007868 Test Loss: 0.6391320\n",
            "EarlyStopping counter: 1 out of 3\n",
            "Updating learning rate to 1.25e-05\n",
            "\titers: 100, epoch: 5 | loss: 0.1513424\n",
            "\tspeed: 0.1719s/iter; left time: 74.4397s\n",
            "\titers: 200, epoch: 5 | loss: 0.1721823\n",
            "\tspeed: 0.0745s/iter; left time: 24.8220s\n",
            "Epoch: 5 cost time: 19.93252992630005\n",
            "Epoch: 5, Steps: 266 | Train Loss: 0.1607486 Vali Loss: 0.7286903 Test Loss: 0.7131232\n",
            "EarlyStopping counter: 2 out of 3\n",
            "Updating learning rate to 6.25e-06\n",
            "\titers: 100, epoch: 6 | loss: 0.1655562\n",
            "\tspeed: 0.1727s/iter; left time: 28.8332s\n",
            "\titers: 200, epoch: 6 | loss: 0.1512143\n",
            "\tspeed: 0.0757s/iter; left time: 5.0704s\n",
            "Epoch: 6 cost time: 20.136668920516968\n",
            "Epoch: 6, Steps: 266 | Train Loss: 0.1533317 Vali Loss: 0.7106643 Test Loss: 0.6663217\n",
            "EarlyStopping counter: 3 out of 3\n",
            "Early stopping\n",
            ">>>>>>>testing : informer_ETTh1_ftM_sl96_ll48_pl24_dm512_nh8_el2_dl1_df2048_atprob_fc5_ebtimeF_dtTrue_mxTrue_exp_0<<<<<<<<<<<<<<<<<<<<<<<<<<<<<<<<<\n",
            "test 2857\n",
            "test shape: (89, 32, 24, 7) (89, 32, 24, 7)\n",
            "test shape: (2848, 24, 7) (2848, 24, 7)\n",
            "mse:0.5526447892189026, mae:0.548734188079834\n"
          ]
        }
      ],
      "source": [
        "Exp = Exp_Informer\n",
        "\n",
        "for ii in range(args.itr):\n",
        "    # setting record of experiments\n",
        "    setting = '{}_{}_ft{}_sl{}_ll{}_pl{}_dm{}_nh{}_el{}_dl{}_df{}_at{}_fc{}_eb{}_dt{}_mx{}_{}_{}'.format(args.model, args.data, args.features, \n",
        "                args.seq_len, args.label_len, args.pred_len,\n",
        "                args.d_model, args.n_heads, args.e_layers, args.d_layers, args.d_ff, args.attn, args.factor, args.embed, args.distil, args.mix, args.des, ii)\n",
        "\n",
        "    # set experiments\n",
        "    exp = Exp(args)\n",
        "    \n",
        "    # train\n",
        "    print('>>>>>>>start training : {}>>>>>>>>>>>>>>>>>>>>>>>>>>'.format(setting))\n",
        "    exp.train(setting)\n",
        "    \n",
        "    # test\n",
        "    print('>>>>>>>testing : {}<<<<<<<<<<<<<<<<<<<<<<<<<<<<<<<<<'.format(setting))\n",
        "    exp.test(setting)\n",
        "\n",
        "    torch.cuda.empty_cache()"
      ]
    },
    {
      "cell_type": "markdown",
      "metadata": {
        "id": "rm7kFeYkffoH"
      },
      "source": [
        "## Experiments: Train and Test (urg16)\n"
      ]
    },
    {
      "cell_type": "code",
      "execution_count": 153,
      "metadata": {
        "id": "qqQBJWHeMzP-"
      },
      "outputs": [],
      "source": [
        "from data.data_loader import Dataset_Custom\n",
        "from torch.utils.data import DataLoader\n",
        "import pandas as pd\n",
        "import os"
      ]
    },
    {
      "cell_type": "code",
      "execution_count": 154,
      "metadata": {
        "id": "5bFrfuw6Oxpi"
      },
      "outputs": [],
      "source": [
        "# custom data: xxx.csv\n",
        "# data features: ['date', ...(other features), target feature]\n",
        "\n",
        "# we take ETTh2 as an example\n",
        "args.root_path = './sample_data/'\n",
        "args.data_path = 'updated_urg16.csv'\n",
        "# args.root_path = './ETDataset/ETT-small/'\n",
        "# args.data_path = 'ETTh2.csv'\n",
        "\n",
        "df = pd.read_csv(os.path.join(args.root_path, args.data_path))"
      ]
    },
    {
      "cell_type": "code",
      "execution_count": 190,
      "metadata": {
        "colab": {
          "base_uri": "https://localhost:8080/",
          "height": 677
        },
        "id": "0--9JC0eO_WT",
        "outputId": "447930f7-6e6e-4b9a-fd87-5b68df1ffeff"
      },
      "outputs": [
        {
          "output_type": "execute_result",
          "data": {
            "text/plain": [
              "                   date       dstip  srcport  dstport       srcip       td  \\\n",
              "0   2016-04-06 17:16:27   719034713     5938    62111   710619707  312.972   \n",
              "1   2016-04-06 17:16:27  3543491421       21    35123   719036242  310.584   \n",
              "2   2016-04-06 17:16:29   719036342        0        0   707248946  308.108   \n",
              "3   2016-04-06 17:16:29   707248946        0        0   719036342  308.004   \n",
              "4   2016-04-06 17:16:30   719035635    58679    40004  3642343491  304.740   \n",
              "5   2016-04-06 17:16:30   604304074     1818      443   719036116  300.384   \n",
              "6   2016-04-06 17:16:30  3104091342    59860      443   719034713  300.288   \n",
              "7   2016-04-06 17:16:30   719035635    51787    40003  3627788584  301.280   \n",
              "8   2016-04-06 17:16:30   719035635    39528    22001  3747623400  301.236   \n",
              "9   2016-04-06 17:16:30  3234563910    64105    17771   719036116  300.200   \n",
              "10  2016-04-06 17:16:30   719036245      443    59366  3143816721  278.128   \n",
              "11  2016-04-06 17:16:30   719035635    52450    22001  1159346482  301.092   \n",
              "12  2016-04-06 17:16:30   719036221      443    42772   732180918  304.008   \n",
              "13  2016-04-06 17:16:30  1062176101    55888     5060   719034773  300.004   \n",
              "14  2016-04-06 17:16:31   847553395     3389    52739   719034860  300.000   \n",
              "15  2016-04-06 17:16:31  3755759413    14361       80   719034713  300.000   \n",
              "16  2016-04-06 17:16:31   719036245      443    26836   962077861  291.864   \n",
              "17  2016-04-06 17:16:31   719036357        0        0  3626732371  299.852   \n",
              "18  2016-04-06 17:16:31  1129117435    43617       80   719034713  302.840   \n",
              "19  2016-04-06 17:16:31   719035635    36502    22001  3383361396  301.780   \n",
              "\n",
              "     pkt      byt  \n",
              "0   4689   917083  \n",
              "1     64     5218  \n",
              "2   1729   290596  \n",
              "3   1933  1335085  \n",
              "4     33     1856  \n",
              "5     72    15480  \n",
              "6     42    20286  \n",
              "7     32     1792  \n",
              "8     32     1792  \n",
              "9     42     4620  \n",
              "10    13      823  \n",
              "11    32     1792  \n",
              "12    33    14326  \n",
              "13    11      352  \n",
              "14    75     9077  \n",
              "15    41     4368  \n",
              "16   134    20562  \n",
              "17    31      992  \n",
              "18    43     6446  \n",
              "19    32     1792  "
            ],
            "text/html": [
              "\n",
              "  <div id=\"df-7ce64d1c-6a67-4e1c-9ff2-9f22040bdd13\">\n",
              "    <div class=\"colab-df-container\">\n",
              "      <div>\n",
              "<style scoped>\n",
              "    .dataframe tbody tr th:only-of-type {\n",
              "        vertical-align: middle;\n",
              "    }\n",
              "\n",
              "    .dataframe tbody tr th {\n",
              "        vertical-align: top;\n",
              "    }\n",
              "\n",
              "    .dataframe thead th {\n",
              "        text-align: right;\n",
              "    }\n",
              "</style>\n",
              "<table border=\"1\" class=\"dataframe\">\n",
              "  <thead>\n",
              "    <tr style=\"text-align: right;\">\n",
              "      <th></th>\n",
              "      <th>date</th>\n",
              "      <th>dstip</th>\n",
              "      <th>srcport</th>\n",
              "      <th>dstport</th>\n",
              "      <th>srcip</th>\n",
              "      <th>td</th>\n",
              "      <th>pkt</th>\n",
              "      <th>byt</th>\n",
              "    </tr>\n",
              "  </thead>\n",
              "  <tbody>\n",
              "    <tr>\n",
              "      <th>0</th>\n",
              "      <td>2016-04-06 17:16:27</td>\n",
              "      <td>719034713</td>\n",
              "      <td>5938</td>\n",
              "      <td>62111</td>\n",
              "      <td>710619707</td>\n",
              "      <td>312.972</td>\n",
              "      <td>4689</td>\n",
              "      <td>917083</td>\n",
              "    </tr>\n",
              "    <tr>\n",
              "      <th>1</th>\n",
              "      <td>2016-04-06 17:16:27</td>\n",
              "      <td>3543491421</td>\n",
              "      <td>21</td>\n",
              "      <td>35123</td>\n",
              "      <td>719036242</td>\n",
              "      <td>310.584</td>\n",
              "      <td>64</td>\n",
              "      <td>5218</td>\n",
              "    </tr>\n",
              "    <tr>\n",
              "      <th>2</th>\n",
              "      <td>2016-04-06 17:16:29</td>\n",
              "      <td>719036342</td>\n",
              "      <td>0</td>\n",
              "      <td>0</td>\n",
              "      <td>707248946</td>\n",
              "      <td>308.108</td>\n",
              "      <td>1729</td>\n",
              "      <td>290596</td>\n",
              "    </tr>\n",
              "    <tr>\n",
              "      <th>3</th>\n",
              "      <td>2016-04-06 17:16:29</td>\n",
              "      <td>707248946</td>\n",
              "      <td>0</td>\n",
              "      <td>0</td>\n",
              "      <td>719036342</td>\n",
              "      <td>308.004</td>\n",
              "      <td>1933</td>\n",
              "      <td>1335085</td>\n",
              "    </tr>\n",
              "    <tr>\n",
              "      <th>4</th>\n",
              "      <td>2016-04-06 17:16:30</td>\n",
              "      <td>719035635</td>\n",
              "      <td>58679</td>\n",
              "      <td>40004</td>\n",
              "      <td>3642343491</td>\n",
              "      <td>304.740</td>\n",
              "      <td>33</td>\n",
              "      <td>1856</td>\n",
              "    </tr>\n",
              "    <tr>\n",
              "      <th>5</th>\n",
              "      <td>2016-04-06 17:16:30</td>\n",
              "      <td>604304074</td>\n",
              "      <td>1818</td>\n",
              "      <td>443</td>\n",
              "      <td>719036116</td>\n",
              "      <td>300.384</td>\n",
              "      <td>72</td>\n",
              "      <td>15480</td>\n",
              "    </tr>\n",
              "    <tr>\n",
              "      <th>6</th>\n",
              "      <td>2016-04-06 17:16:30</td>\n",
              "      <td>3104091342</td>\n",
              "      <td>59860</td>\n",
              "      <td>443</td>\n",
              "      <td>719034713</td>\n",
              "      <td>300.288</td>\n",
              "      <td>42</td>\n",
              "      <td>20286</td>\n",
              "    </tr>\n",
              "    <tr>\n",
              "      <th>7</th>\n",
              "      <td>2016-04-06 17:16:30</td>\n",
              "      <td>719035635</td>\n",
              "      <td>51787</td>\n",
              "      <td>40003</td>\n",
              "      <td>3627788584</td>\n",
              "      <td>301.280</td>\n",
              "      <td>32</td>\n",
              "      <td>1792</td>\n",
              "    </tr>\n",
              "    <tr>\n",
              "      <th>8</th>\n",
              "      <td>2016-04-06 17:16:30</td>\n",
              "      <td>719035635</td>\n",
              "      <td>39528</td>\n",
              "      <td>22001</td>\n",
              "      <td>3747623400</td>\n",
              "      <td>301.236</td>\n",
              "      <td>32</td>\n",
              "      <td>1792</td>\n",
              "    </tr>\n",
              "    <tr>\n",
              "      <th>9</th>\n",
              "      <td>2016-04-06 17:16:30</td>\n",
              "      <td>3234563910</td>\n",
              "      <td>64105</td>\n",
              "      <td>17771</td>\n",
              "      <td>719036116</td>\n",
              "      <td>300.200</td>\n",
              "      <td>42</td>\n",
              "      <td>4620</td>\n",
              "    </tr>\n",
              "    <tr>\n",
              "      <th>10</th>\n",
              "      <td>2016-04-06 17:16:30</td>\n",
              "      <td>719036245</td>\n",
              "      <td>443</td>\n",
              "      <td>59366</td>\n",
              "      <td>3143816721</td>\n",
              "      <td>278.128</td>\n",
              "      <td>13</td>\n",
              "      <td>823</td>\n",
              "    </tr>\n",
              "    <tr>\n",
              "      <th>11</th>\n",
              "      <td>2016-04-06 17:16:30</td>\n",
              "      <td>719035635</td>\n",
              "      <td>52450</td>\n",
              "      <td>22001</td>\n",
              "      <td>1159346482</td>\n",
              "      <td>301.092</td>\n",
              "      <td>32</td>\n",
              "      <td>1792</td>\n",
              "    </tr>\n",
              "    <tr>\n",
              "      <th>12</th>\n",
              "      <td>2016-04-06 17:16:30</td>\n",
              "      <td>719036221</td>\n",
              "      <td>443</td>\n",
              "      <td>42772</td>\n",
              "      <td>732180918</td>\n",
              "      <td>304.008</td>\n",
              "      <td>33</td>\n",
              "      <td>14326</td>\n",
              "    </tr>\n",
              "    <tr>\n",
              "      <th>13</th>\n",
              "      <td>2016-04-06 17:16:30</td>\n",
              "      <td>1062176101</td>\n",
              "      <td>55888</td>\n",
              "      <td>5060</td>\n",
              "      <td>719034773</td>\n",
              "      <td>300.004</td>\n",
              "      <td>11</td>\n",
              "      <td>352</td>\n",
              "    </tr>\n",
              "    <tr>\n",
              "      <th>14</th>\n",
              "      <td>2016-04-06 17:16:31</td>\n",
              "      <td>847553395</td>\n",
              "      <td>3389</td>\n",
              "      <td>52739</td>\n",
              "      <td>719034860</td>\n",
              "      <td>300.000</td>\n",
              "      <td>75</td>\n",
              "      <td>9077</td>\n",
              "    </tr>\n",
              "    <tr>\n",
              "      <th>15</th>\n",
              "      <td>2016-04-06 17:16:31</td>\n",
              "      <td>3755759413</td>\n",
              "      <td>14361</td>\n",
              "      <td>80</td>\n",
              "      <td>719034713</td>\n",
              "      <td>300.000</td>\n",
              "      <td>41</td>\n",
              "      <td>4368</td>\n",
              "    </tr>\n",
              "    <tr>\n",
              "      <th>16</th>\n",
              "      <td>2016-04-06 17:16:31</td>\n",
              "      <td>719036245</td>\n",
              "      <td>443</td>\n",
              "      <td>26836</td>\n",
              "      <td>962077861</td>\n",
              "      <td>291.864</td>\n",
              "      <td>134</td>\n",
              "      <td>20562</td>\n",
              "    </tr>\n",
              "    <tr>\n",
              "      <th>17</th>\n",
              "      <td>2016-04-06 17:16:31</td>\n",
              "      <td>719036357</td>\n",
              "      <td>0</td>\n",
              "      <td>0</td>\n",
              "      <td>3626732371</td>\n",
              "      <td>299.852</td>\n",
              "      <td>31</td>\n",
              "      <td>992</td>\n",
              "    </tr>\n",
              "    <tr>\n",
              "      <th>18</th>\n",
              "      <td>2016-04-06 17:16:31</td>\n",
              "      <td>1129117435</td>\n",
              "      <td>43617</td>\n",
              "      <td>80</td>\n",
              "      <td>719034713</td>\n",
              "      <td>302.840</td>\n",
              "      <td>43</td>\n",
              "      <td>6446</td>\n",
              "    </tr>\n",
              "    <tr>\n",
              "      <th>19</th>\n",
              "      <td>2016-04-06 17:16:31</td>\n",
              "      <td>719035635</td>\n",
              "      <td>36502</td>\n",
              "      <td>22001</td>\n",
              "      <td>3383361396</td>\n",
              "      <td>301.780</td>\n",
              "      <td>32</td>\n",
              "      <td>1792</td>\n",
              "    </tr>\n",
              "  </tbody>\n",
              "</table>\n",
              "</div>\n",
              "      <button class=\"colab-df-convert\" onclick=\"convertToInteractive('df-7ce64d1c-6a67-4e1c-9ff2-9f22040bdd13')\"\n",
              "              title=\"Convert this dataframe to an interactive table.\"\n",
              "              style=\"display:none;\">\n",
              "        \n",
              "  <svg xmlns=\"http://www.w3.org/2000/svg\" height=\"24px\"viewBox=\"0 0 24 24\"\n",
              "       width=\"24px\">\n",
              "    <path d=\"M0 0h24v24H0V0z\" fill=\"none\"/>\n",
              "    <path d=\"M18.56 5.44l.94 2.06.94-2.06 2.06-.94-2.06-.94-.94-2.06-.94 2.06-2.06.94zm-11 1L8.5 8.5l.94-2.06 2.06-.94-2.06-.94L8.5 2.5l-.94 2.06-2.06.94zm10 10l.94 2.06.94-2.06 2.06-.94-2.06-.94-.94-2.06-.94 2.06-2.06.94z\"/><path d=\"M17.41 7.96l-1.37-1.37c-.4-.4-.92-.59-1.43-.59-.52 0-1.04.2-1.43.59L10.3 9.45l-7.72 7.72c-.78.78-.78 2.05 0 2.83L4 21.41c.39.39.9.59 1.41.59.51 0 1.02-.2 1.41-.59l7.78-7.78 2.81-2.81c.8-.78.8-2.07 0-2.86zM5.41 20L4 18.59l7.72-7.72 1.47 1.35L5.41 20z\"/>\n",
              "  </svg>\n",
              "      </button>\n",
              "      \n",
              "  <style>\n",
              "    .colab-df-container {\n",
              "      display:flex;\n",
              "      flex-wrap:wrap;\n",
              "      gap: 12px;\n",
              "    }\n",
              "\n",
              "    .colab-df-convert {\n",
              "      background-color: #E8F0FE;\n",
              "      border: none;\n",
              "      border-radius: 50%;\n",
              "      cursor: pointer;\n",
              "      display: none;\n",
              "      fill: #1967D2;\n",
              "      height: 32px;\n",
              "      padding: 0 0 0 0;\n",
              "      width: 32px;\n",
              "    }\n",
              "\n",
              "    .colab-df-convert:hover {\n",
              "      background-color: #E2EBFA;\n",
              "      box-shadow: 0px 1px 2px rgba(60, 64, 67, 0.3), 0px 1px 3px 1px rgba(60, 64, 67, 0.15);\n",
              "      fill: #174EA6;\n",
              "    }\n",
              "\n",
              "    [theme=dark] .colab-df-convert {\n",
              "      background-color: #3B4455;\n",
              "      fill: #D2E3FC;\n",
              "    }\n",
              "\n",
              "    [theme=dark] .colab-df-convert:hover {\n",
              "      background-color: #434B5C;\n",
              "      box-shadow: 0px 1px 3px 1px rgba(0, 0, 0, 0.15);\n",
              "      filter: drop-shadow(0px 1px 2px rgba(0, 0, 0, 0.3));\n",
              "      fill: #FFFFFF;\n",
              "    }\n",
              "  </style>\n",
              "\n",
              "      <script>\n",
              "        const buttonEl =\n",
              "          document.querySelector('#df-7ce64d1c-6a67-4e1c-9ff2-9f22040bdd13 button.colab-df-convert');\n",
              "        buttonEl.style.display =\n",
              "          google.colab.kernel.accessAllowed ? 'block' : 'none';\n",
              "\n",
              "        async function convertToInteractive(key) {\n",
              "          const element = document.querySelector('#df-7ce64d1c-6a67-4e1c-9ff2-9f22040bdd13');\n",
              "          const dataTable =\n",
              "            await google.colab.kernel.invokeFunction('convertToInteractive',\n",
              "                                                     [key], {});\n",
              "          if (!dataTable) return;\n",
              "\n",
              "          const docLinkHtml = 'Like what you see? Visit the ' +\n",
              "            '<a target=\"_blank\" href=https://colab.research.google.com/notebooks/data_table.ipynb>data table notebook</a>'\n",
              "            + ' to learn more about interactive tables.';\n",
              "          element.innerHTML = '';\n",
              "          dataTable['output_type'] = 'display_data';\n",
              "          await google.colab.output.renderOutput(dataTable, element);\n",
              "          const docLink = document.createElement('div');\n",
              "          docLink.innerHTML = docLinkHtml;\n",
              "          element.appendChild(docLink);\n",
              "        }\n",
              "      </script>\n",
              "    </div>\n",
              "  </div>\n",
              "  "
            ]
          },
          "metadata": {},
          "execution_count": 190
        }
      ],
      "source": [
        "df.head(20)"
      ]
    },
    {
      "cell_type": "code",
      "execution_count": 168,
      "metadata": {
        "id": "QmvRipRbPAbP"
      },
      "outputs": [],
      "source": [
        "'''\n",
        "We set 'HULL' as target instead of 'OT'\n",
        "\n",
        "The following frequencies are supported:\n",
        "        Y   - yearly\n",
        "            alias: A\n",
        "        M   - monthly\n",
        "        W   - weekly\n",
        "        D   - daily\n",
        "        B   - business days\n",
        "        H   - hourly\n",
        "        T   - minutely\n",
        "            alias: min\n",
        "        S   - secondly\n",
        "'''\n",
        "\n",
        "args.target = 'td'\n",
        "args.freq = 's'\n",
        "args.data = \"custom\"\n",
        "\n",
        "args.seq_len = 96 # input sequence length of Informer encoder\n",
        "args.label_len = 48 # start token length of Informer decoder\n",
        "args.pred_len = 24 # prediction sequence length\n",
        "# Informer decoder input: concat[start token series(label_len), zero padding series(pred_len)]\n",
        "\n",
        "args.enc_in = 7 # encoder input size\n",
        "args.dec_in = 7 # decoder input size\n",
        "args.c_out = 7 # output size\n",
        "args.factor = 5 # probsparse attn factor\n",
        "args.d_model = 512 # dimension of model\n",
        "args.n_heads = 8 # num of heads\n",
        "args.e_layers = 2 # num of encoder layers\n",
        "args.d_layers = 1 # num of decoder layers\n",
        "args.d_ff = 2048 # dimension of fcn in model\n",
        "args.dropout = 0.05 # dropout\n",
        "args.attn = 'prob' # attention used in encoder, options:[prob, full]\n",
        "args.embed = 'timeF' # time features encoding, options:[timeF, fixed, learned]\n",
        "args.activation = 'gelu' # activation\n",
        "args.distil = True # whether to use distilling in encoder\n",
        "args.output_attention = False # whether to output attention in ecoder\n",
        "args.mix = True\n",
        "args.padding = 0\n",
        "\n",
        "args.batch_size = 32 \n",
        "args.learning_rate = 0.0001\n",
        "args.loss = 'mse'\n",
        "args.lradj = 'type1'\n",
        "args.use_amp = False # whether to use automatic mixed precision training\n",
        "\n",
        "args.num_workers = 0\n",
        "args.itr = 1\n",
        "args.train_epochs = 6\n",
        "args.patience = 3\n",
        "args.des = 'exp'\n",
        "args.features = 'M'\n",
        "\n",
        "Data = Dataset_Custom\n",
        "timeenc = 0 if args.embed!='timeF' else 1\n",
        "flag = 'test'; shuffle_flag = False; drop_last = True; batch_size = 1\n",
        "\n",
        "data_set = Data(\n",
        "    root_path=args.root_path,\n",
        "    data_path=args.data_path,\n",
        "    flag=flag,\n",
        "    size=[args.seq_len, args.label_len, args.pred_len],\n",
        "    features=args.features,\n",
        "    timeenc=timeenc,\n",
        "    target=args.target, # HULL here\n",
        "    freq=args.freq # 'h': hourly, 't':minutely\n",
        ")\n",
        "data_loader = DataLoader(\n",
        "    data_set,\n",
        "    batch_size=batch_size,\n",
        "    shuffle=shuffle_flag,\n",
        "    num_workers=args.num_workers,\n",
        "    drop_last=drop_last)"
      ]
    },
    {
      "cell_type": "code",
      "execution_count": 169,
      "metadata": {
        "id": "IkNDT2jMPCUf",
        "colab": {
          "base_uri": "https://localhost:8080/"
        },
        "outputId": "c29bc98b-4b4a-4a48-de66-d167dc08689f"
      },
      "outputs": [
        {
          "output_type": "stream",
          "name": "stdout",
          "text": [
            "(96, 7)\n",
            "(72, 7)\n",
            "(96, 6)\n"
          ]
        }
      ],
      "source": [
        "batch_x,batch_y,batch_x_mark,batch_y_mark = data_set[0]\n",
        "print (batch_x.shape)\n",
        "print (batch_y.shape)\n",
        "print (batch_x_mark.shape)"
      ]
    },
    {
      "cell_type": "code",
      "metadata": {
        "id": "MoWS2rnZ7lwc"
      },
      "source": [
        "args.detail_freq = args.freq\n",
        "args.freq = args.freq[-1:]"
      ],
      "execution_count": 170,
      "outputs": []
    },
    {
      "cell_type": "code",
      "execution_count": 171,
      "metadata": {
        "colab": {
          "base_uri": "https://localhost:8080/"
        },
        "id": "VUcvSLlkSFTx",
        "outputId": "d8639b12-aa97-4c60-b206-9e33501ba479"
      },
      "outputs": [
        {
          "output_type": "stream",
          "name": "stdout",
          "text": [
            "{'model': 'informer', 'data': 'custom', 'root_path': './sample_data/', 'data_path': 'updated_urg16.csv', 'features': 'M', 'target': 'td', 'freq': 's', 'checkpoints': './informer_checkpoints', 'seq_len': 96, 'label_len': 48, 'pred_len': 24, 'enc_in': 7, 'dec_in': 7, 'c_out': 7, 'factor': 5, 'd_model': 512, 'n_heads': 8, 'e_layers': 2, 'd_layers': 1, 'd_ff': 2048, 'dropout': 0.05, 'attn': 'prob', 'embed': 'timeF', 'activation': 'gelu', 'distil': True, 'output_attention': False, 'mix': True, 'padding': 0, 'batch_size': 32, 'learning_rate': 0.0001, 'loss': 'mse', 'lradj': 'type1', 'use_amp': False, 'num_workers': 0, 'itr': 1, 'train_epochs': 6, 'patience': 3, 'des': 'exp', 'use_gpu': True, 'gpu': 0, 'use_multi_gpu': False, 'devices': '0,1,2,3', 'detail_freq': 's'}\n"
          ]
        }
      ],
      "source": [
        "print(args)"
      ]
    },
    {
      "cell_type": "code",
      "execution_count": 172,
      "metadata": {
        "id": "c1jr1qA1LGI4"
      },
      "outputs": [],
      "source": [
        "Exp2 = Exp_Informer"
      ]
    },
    {
      "cell_type": "code",
      "execution_count": 173,
      "metadata": {
        "colab": {
          "base_uri": "https://localhost:8080/"
        },
        "id": "xbWsSmc8LKes",
        "outputId": "b843e841-b4d2-4b6f-d0d2-239ba9b73f4e"
      },
      "outputs": [
        {
          "output_type": "stream",
          "name": "stdout",
          "text": [
            "Use GPU: cuda:0\n",
            ">>>>>>>start training : informer_custom_ftM_sl96_ll48_pl24_dm512_nh8_el2_dl1_df2048_atprob_fc5_ebtimeF_dtTrue_mxTrue_exp_0>>>>>>>>>>>>>>>>>>>>>>>>>>\n",
            "train 9848\n",
            "val 1402\n",
            "test 2824\n",
            "\titers: 100, epoch: 1 | loss: 0.6423217\n",
            "\tspeed: 0.0762s/iter; left time: 132.8674s\n",
            "\titers: 200, epoch: 1 | loss: 0.5748969\n",
            "\tspeed: 0.0769s/iter; left time: 126.3568s\n",
            "\titers: 300, epoch: 1 | loss: 0.5828327\n",
            "\tspeed: 0.0780s/iter; left time: 120.2811s\n",
            "Epoch: 1 cost time: 23.700514316558838\n",
            "Epoch: 1, Steps: 307 | Train Loss: 0.8872429 Vali Loss: 0.5684129 Test Loss: 0.5782682\n",
            "Validation loss decreased (inf --> 0.568413).  Saving model ...\n",
            "Updating learning rate to 0.0001\n",
            "\titers: 100, epoch: 2 | loss: 0.5523842\n",
            "\tspeed: 0.1217s/iter; left time: 174.8292s\n",
            "\titers: 200, epoch: 2 | loss: 0.5554458\n",
            "\tspeed: 0.0785s/iter; left time: 104.8294s\n",
            "\titers: 300, epoch: 2 | loss: 3.8018532\n",
            "\tspeed: 0.0781s/iter; left time: 96.5621s\n",
            "Epoch: 2 cost time: 24.09298872947693\n",
            "Epoch: 2, Steps: 307 | Train Loss: 0.8361954 Vali Loss: 0.5794718 Test Loss: 0.5925961\n",
            "EarlyStopping counter: 1 out of 3\n",
            "Updating learning rate to 5e-05\n",
            "\titers: 100, epoch: 3 | loss: 0.5496495\n",
            "\tspeed: 0.1190s/iter; left time: 134.3141s\n",
            "\titers: 200, epoch: 3 | loss: 0.5621946\n",
            "\tspeed: 0.0770s/iter; left time: 79.2801s\n",
            "\titers: 300, epoch: 3 | loss: 3.9666796\n",
            "\tspeed: 0.0765s/iter; left time: 71.0361s\n",
            "Epoch: 3 cost time: 23.63041877746582\n",
            "Epoch: 3, Steps: 307 | Train Loss: 0.8010192 Vali Loss: 0.5897178 Test Loss: 0.6035421\n",
            "EarlyStopping counter: 2 out of 3\n",
            "Updating learning rate to 2.5e-05\n",
            "\titers: 100, epoch: 4 | loss: 0.5109264\n",
            "\tspeed: 0.1183s/iter; left time: 97.2435s\n",
            "\titers: 200, epoch: 4 | loss: 0.4831555\n",
            "\tspeed: 0.0772s/iter; left time: 55.7294s\n",
            "\titers: 300, epoch: 4 | loss: 0.5286382\n",
            "\tspeed: 0.0771s/iter; left time: 47.9754s\n",
            "Epoch: 4 cost time: 23.653465270996094\n",
            "Epoch: 4, Steps: 307 | Train Loss: 0.7821969 Vali Loss: 0.5959420 Test Loss: 0.6102202\n",
            "EarlyStopping counter: 3 out of 3\n",
            "Early stopping\n",
            ">>>>>>>testing : informer_custom_ftM_sl96_ll48_pl24_dm512_nh8_el2_dl1_df2048_atprob_fc5_ebtimeF_dtTrue_mxTrue_exp_0<<<<<<<<<<<<<<<<<<<<<<<<<<<<<<<<<\n",
            "test 2824\n",
            "test shape: (88, 32, 24, 7) (88, 32, 24, 7)\n",
            "test shape: (2816, 24, 7) (2816, 24, 7)\n",
            "mse:0.5783575177192688, mae:0.5463289618492126\n"
          ]
        }
      ],
      "source": [
        "for ii in range(args.itr):\n",
        "    # setting record of experiments\n",
        "    setting = '{}_{}_ft{}_sl{}_ll{}_pl{}_dm{}_nh{}_el{}_dl{}_df{}_at{}_fc{}_eb{}_dt{}_mx{}_{}_{}'.format(args.model, args.data, args.features, \n",
        "                args.seq_len, args.label_len, args.pred_len,\n",
        "                args.d_model, args.n_heads, args.e_layers, args.d_layers, args.d_ff, args.attn, args.factor, args.embed, args.distil, args.mix, args.des, ii)\n",
        "\n",
        "    # set experiments\n",
        "    exp2 = Exp2(args)\n",
        "    \n",
        "    # train\n",
        "    print('>>>>>>>start training : {}>>>>>>>>>>>>>>>>>>>>>>>>>>'.format(setting))\n",
        "    exp2.train(setting)\n",
        "    \n",
        "    # test\n",
        "    print('>>>>>>>testing : {}<<<<<<<<<<<<<<<<<<<<<<<<<<<<<<<<<'.format(setting))\n",
        "    exp2.test(setting)\n",
        "\n",
        "    torch.cuda.empty_cache()"
      ]
    },
    {
      "cell_type": "markdown",
      "metadata": {
        "id": "kL7S-7JvgEtR"
      },
      "source": [
        "## Predict (urg16) "
      ]
    },
    {
      "cell_type": "code",
      "execution_count": 174,
      "metadata": {
        "id": "s0YI1zx6ACiz"
      },
      "outputs": [],
      "source": [
        "import os\n",
        "\n",
        "# set saved model path\n",
        "setting = 'informer_custom_ftM_sl96_ll48_pl24_dm512_nh8_el2_dl1_df2048_atprob_fc5_ebtimeF_dtTrue_mxTrue_exp_0'\n",
        "# setting = 'informer_ETTh1_ftM_sl96_ll48_pl24_dm512_nh8_el2_dl1_df2048_atprob_fc5_ebtimeF_dtTrue_mxTrue_exp_0'\n",
        "\n",
        "# path = os.path.join(args.checkpoints,setting,'checkpoint.pth')"
      ]
    },
    {
      "cell_type": "code",
      "execution_count": 175,
      "metadata": {
        "colab": {
          "base_uri": "https://localhost:8080/"
        },
        "id": "nTkluNNcyMJt",
        "outputId": "d1e8ba11-4fb9-42cf-94bd-70870f4572a5"
      },
      "outputs": [
        {
          "output_type": "stream",
          "name": "stdout",
          "text": [
            "Use GPU: cuda:0\n",
            "pred 1\n"
          ]
        }
      ],
      "source": [
        "# If you already have a trained model, you can set the arguments and model path, then initialize a Experiment and use it to predict\n",
        "# Prediction is a sequence which is adjacent to the last date of the data, and does not exist in the data\n",
        "# If you want to get more information about prediction, you can refer to code `exp/exp_informer.py function predict()` and `data/data_loader.py class Dataset_Pred`\n",
        "exp = Exp(args)\n",
        "exp.predict(setting, True)"
      ]
    },
    {
      "cell_type": "code",
      "execution_count": 176,
      "metadata": {
        "id": "KBCPbjGuzAZb",
        "colab": {
          "base_uri": "https://localhost:8080/"
        },
        "outputId": "6ca2215e-9dd7-4a33-eac9-4bfb259127f4"
      },
      "outputs": [
        {
          "output_type": "execute_result",
          "data": {
            "text/plain": [
              "(1, 24, 7)"
            ]
          },
          "metadata": {},
          "execution_count": 176
        }
      ],
      "source": [
        "# the prediction will be saved in ./results/{setting}/real_prediction.npy\n",
        "import numpy as np\n",
        "\n",
        "prediction = np.load('./results/'+setting+'/real_prediction.npy')\n",
        "\n",
        "prediction.shape"
      ]
    },
    {
      "cell_type": "markdown",
      "metadata": {
        "id": "5yFuVkTV30_j"
      },
      "source": [
        "### More details about Prediction - prediction function"
      ]
    },
    {
      "cell_type": "code",
      "execution_count": 177,
      "metadata": {
        "id": "Sv9AR_Aw030r"
      },
      "outputs": [],
      "source": [
        "# here is the detailed code of function predict\n",
        "\n",
        "def predict(exp, setting, load=False):\n",
        "    pred_data, pred_loader = exp._get_data(flag='pred')\n",
        "        \n",
        "    if load:\n",
        "        path = os.path.join(exp.args.checkpoints, setting)\n",
        "        best_model_path = path+'/'+'checkpoint.pth'\n",
        "        exp.model.load_state_dict(torch.load(best_model_path))\n",
        "\n",
        "    exp.model.eval()\n",
        "        \n",
        "    preds = []\n",
        "        \n",
        "    for i, (batch_x,batch_y,batch_x_mark,batch_y_mark) in enumerate(pred_loader):\n",
        "        batch_x = batch_x.float().to(exp.device)\n",
        "        batch_y = batch_y.float()\n",
        "        batch_x_mark = batch_x_mark.float().to(exp.device)\n",
        "        batch_y_mark = batch_y_mark.float().to(exp.device)\n",
        "\n",
        "        # decoder input\n",
        "        if exp.args.padding==0:\n",
        "            dec_inp = torch.zeros([batch_y.shape[0], exp.args.pred_len, batch_y.shape[-1]]).float()\n",
        "        elif exp.args.padding==1:\n",
        "            dec_inp = torch.ones([batch_y.shape[0], exp.args.pred_len, batch_y.shape[-1]]).float()\n",
        "        else:\n",
        "            dec_inp = torch.zeros([batch_y.shape[0], exp.args.pred_len, batch_y.shape[-1]]).float()\n",
        "        dec_inp = torch.cat([batch_y[:,:exp.args.label_len,:], dec_inp], dim=1).float().to(exp.device)\n",
        "        # encoder - decoder\n",
        "        if exp.args.use_amp:\n",
        "            with torch.cuda.amp.autocast():\n",
        "                if exp.args.output_attention:\n",
        "                    outputs = exp.model(batch_x, batch_x_mark, dec_inp, batch_y_mark)[0]\n",
        "                else:\n",
        "                    outputs = exp.model(batch_x, batch_x_mark, dec_inp, batch_y_mark)\n",
        "        else:\n",
        "            if exp.args.output_attention:\n",
        "                outputs = exp.model(batch_x, batch_x_mark, dec_inp, batch_y_mark)[0]\n",
        "            else:\n",
        "                outputs = exp.model(batch_x, batch_x_mark, dec_inp, batch_y_mark)\n",
        "        f_dim = -1 if exp.args.features=='MS' else 0\n",
        "        batch_y = batch_y[:,-exp.args.pred_len:,f_dim:].to(exp.device)\n",
        "        \n",
        "        pred = outputs.detach().cpu().numpy()#.squeeze()\n",
        "        \n",
        "        preds.append(pred)\n",
        "\n",
        "    preds = np.array(preds)\n",
        "    preds = preds.reshape(-1, preds.shape[-2], preds.shape[-1])\n",
        "    \n",
        "    # result save\n",
        "    folder_path = './results/' + setting +'/'\n",
        "    if not os.path.exists(folder_path):\n",
        "        os.makedirs(folder_path)\n",
        "    \n",
        "    np.save(folder_path+'real_prediction.npy', preds)\n",
        "    \n",
        "    return preds\n"
      ]
    },
    {
      "cell_type": "code",
      "execution_count": 178,
      "metadata": {
        "id": "tVLWZL2a1pwB",
        "colab": {
          "base_uri": "https://localhost:8080/"
        },
        "outputId": "669510d3-3f3d-4953-acaa-bf50f8bb5966"
      },
      "outputs": [
        {
          "output_type": "stream",
          "name": "stdout",
          "text": [
            "pred 1\n"
          ]
        }
      ],
      "source": [
        "# you can also use this prediction function to get result\n",
        "prediction = predict(exp, setting, True)"
      ]
    },
    {
      "cell_type": "code",
      "execution_count": 179,
      "metadata": {
        "id": "NwtZmQC71uc8",
        "colab": {
          "base_uri": "https://localhost:8080/",
          "height": 430
        },
        "outputId": "f862e08a-423f-47d8-ddd3-b02ac9199365"
      },
      "outputs": [
        {
          "output_type": "display_data",
          "data": {
            "text/plain": [
              "<Figure size 640x480 with 1 Axes>"
            ],
            "image/png": "[encoded data removed]"
          },
          "metadata": {}
        }
      ],
      "source": [
        "import matplotlib.pyplot as plt\n",
        "\n",
        "plt.figure()\n",
        "plt.plot(prediction[0,:,-1])\n",
        "plt.show()"
      ]
    },
    {
      "cell_type": "markdown",
      "metadata": {
        "id": "EnePVyrW4I14"
      },
      "source": [
        "### More details about Prediction - prediction dataset\n",
        "\n",
        "You can give a `root_path` and `data_path` of the data you want to forecast, and set `seq_len`, `label_len`, `pred_len` and other arguments as other Dataset. The difference is that you can set a more detailed freq such as `15min` or `3h` to generate the timestamp of prediction series.\n",
        "\n",
        "`Dataset_Pred` only has one sample (including `encoder_input: [1, seq_len, dim]`, `decoder_token: [1, label_len, dim]`, `encoder_input_timestamp: [1, seq_len, date_dim]`, `decoder_input_timstamp: [1, label_len+pred_len, date_dim]`). It will intercept the last sequence of the given data (seq_len data) to forecast the unseen future sequence (pred_len data)."
      ]
    },
    {
      "cell_type": "code",
      "execution_count": null,
      "metadata": {
        "id": "ZpXhNGp34Hf4"
      },
      "outputs": [],
      "source": [
        "from data.data_loader import Dataset_Pred\n",
        "from torch.utils.data import DataLoader"
      ]
    },
    {
      "cell_type": "code",
      "execution_count": null,
      "metadata": {
        "id": "j4Rpd1q74T8N",
        "colab": {
          "base_uri": "https://localhost:8080/"
        },
        "outputId": "23f37b39-e635-45f4-9770-28916a839eea"
      },
      "outputs": [
        {
          "output_type": "stream",
          "name": "stdout",
          "text": [
            "s\n"
          ]
        }
      ],
      "source": [
        "Data = Dataset_Pred\n",
        "timeenc = 0 if args.embed!='timeF' else 1\n",
        "flag = 'pred'; shuffle_flag = False; drop_last = False; batch_size = 1\n",
        "\n",
        "freq = 's'\n",
        "print(freq)\n",
        "\n",
        "data_set = Data(\n",
        "    root_path=args.root_path,\n",
        "    data_path=args.data_path,\n",
        "    flag=flag,\n",
        "    size=[args.seq_len, args.label_len, args.pred_len],\n",
        "    features=args.features,\n",
        "    target=args.target,\n",
        "    timeenc=timeenc,\n",
        "    freq=freq\n",
        ")\n",
        "data_loader = DataLoader(\n",
        "    data_set,\n",
        "    batch_size=batch_size,\n",
        "    shuffle=shuffle_flag,\n",
        "    num_workers=args.num_workers,\n",
        "    drop_last=drop_last)"
      ]
    },
    {
      "cell_type": "code",
      "execution_count": null,
      "metadata": {
        "id": "42C84BfY6UPV",
        "colab": {
          "base_uri": "https://localhost:8080/"
        },
        "outputId": "8437a744-ce5b-475f-8b5e-14ff76522705"
      },
      "outputs": [
        {
          "output_type": "execute_result",
          "data": {
            "text/plain": [
              "(1, 1)"
            ]
          },
          "metadata": {},
          "execution_count": 159
        }
      ],
      "source": [
        "len(data_set), len(data_loader)"
      ]
    },
    {
      "cell_type": "markdown",
      "metadata": {
        "id": "cNhEP_7sAgqC"
      },
      "source": [
        "## Visualization (urg16)"
      ]
    },
    {
      "cell_type": "code",
      "execution_count": 180,
      "metadata": {
        "id": "vMRk8VkQ2Iko",
        "colab": {
          "base_uri": "https://localhost:8080/"
        },
        "outputId": "8e99bf5d-6a4b-4ab5-a0b3-dd9a369e5658"
      },
      "outputs": [
        {
          "output_type": "execute_result",
          "data": {
            "text/plain": [
              "((2816, 24, 7), (2816, 24, 7))"
            ]
          },
          "metadata": {},
          "execution_count": 180
        }
      ],
      "source": [
        "# When we finished exp.train(setting) and exp.test(setting), we will get a trained model and the results of test experiment\n",
        "# The results of test experiment will be saved in ./results/{setting}/pred.npy (prediction of test dataset) and ./results/{setting}/true.npy (groundtruth of test dataset)\n",
        "\n",
        "preds = np.load('./results/'+setting+'/pred.npy')\n",
        "trues = np.load('./results/'+setting+'/true.npy')\n",
        "\n",
        "# [samples, pred_len, dimensions]\n",
        "preds.shape, trues.shape"
      ]
    },
    {
      "cell_type": "code",
      "execution_count": 181,
      "metadata": {
        "id": "ZEGhDOmxAeAb"
      },
      "outputs": [],
      "source": [
        "import matplotlib.pyplot as plt\n",
        "import seaborn as sns"
      ]
    },
    {
      "cell_type": "code",
      "execution_count": 182,
      "metadata": {
        "id": "kyPuOPGAAjl3",
        "colab": {
          "base_uri": "https://localhost:8080/",
          "height": 430
        },
        "outputId": "a78d6465-5a6d-442d-f31f-e3f6b1f7c99d"
      },
      "outputs": [
        {
          "output_type": "display_data",
          "data": {
            "text/plain": [
              "<Figure size 640x480 with 1 Axes>"
            ],
            "image/png": "[encoded data removed]"
          },
          "metadata": {}
        }
      ],
      "source": [
        "# draw byte prediction\n",
        "plt.figure()\n",
        "plt.plot(trues[0,:,-1], label='GroundTruth')\n",
        "plt.plot(preds[0,:,-1], label='Prediction')\n",
        "plt.legend()\n",
        "plt.show()"
      ]
    },
    {
      "cell_type": "code",
      "execution_count": 183,
      "metadata": {
        "colab": {
          "base_uri": "https://localhost:8080/",
          "height": 431
        },
        "outputId": "1167bac7-90ca-4d35-8d2f-a124ee760646",
        "id": "bXe7Nkr-P__P"
      },
      "outputs": [
        {
          "output_type": "display_data",
          "data": {
            "text/plain": [
              "<Figure size 640x480 with 1 Axes>"
            ],
            "image/png": "[encoded data removed]"
          },
          "metadata": {}
        }
      ],
      "source": [
        "# draw dstip prediction\n",
        "plt.figure()\n",
        "plt.plot(trues[0,:,0], label='GroundTruth')\n",
        "plt.plot(preds[0,:,0], label='Prediction')\n",
        "plt.legend()\n",
        "plt.show()"
      ]
    },
    {
      "cell_type": "code",
      "execution_count": 185,
      "metadata": {
        "colab": {
          "base_uri": "https://localhost:8080/",
          "height": 430
        },
        "outputId": "3a05cd2d-448f-4621-adc6-cc0eb66e5c3a",
        "id": "CFbc7Qx5bxKq"
      },
      "outputs": [
        {
          "output_type": "display_data",
          "data": {
            "text/plain": [
              "<Figure size 640x480 with 1 Axes>"
            ],
            "image/png": "[encoded data removed]"
          },
          "metadata": {}
        }
      ],
      "source": [
        "# draw dstport prediction\n",
        "plt.figure()\n",
        "plt.plot(trues[0,:,2], label='GroundTruth')\n",
        "plt.plot(preds[0,:,2], label='Prediction')\n",
        "plt.legend()\n",
        "plt.show()"
      ]
    },
    {
      "cell_type": "code",
      "execution_count": 184,
      "metadata": {
        "colab": {
          "base_uri": "https://localhost:8080/",
          "height": 430
        },
        "outputId": "64bd8fe7-c3e9-45d8-866f-f0ef51248df3",
        "id": "pT2_Dx4YaLr5"
      },
      "outputs": [
        {
          "output_type": "display_data",
          "data": {
            "text/plain": [
              "<Figure size 640x480 with 1 Axes>"
            ],
            "image/png": "[encoded data removed]"
          },
          "metadata": {}
        }
      ],
      "source": [
        "# draw td prediction\n",
        "plt.figure()\n",
        "plt.plot(trues[0,:,4], label='GroundTruth')\n",
        "plt.plot(preds[0,:,4], label='Prediction')\n",
        "plt.legend()\n",
        "plt.show()"
      ]
    }
  ],
  "metadata": {
    "accelerator": "GPU",
    "colab": {
      "provenance": [],
      "include_colab_link": true
    },
    "gpuClass": "standard",
    "kernelspec": {
      "display_name": "Python 3",
      "name": "python3"
    }
  },
  "nbformat": 4,
  "nbformat_minor": 0
}